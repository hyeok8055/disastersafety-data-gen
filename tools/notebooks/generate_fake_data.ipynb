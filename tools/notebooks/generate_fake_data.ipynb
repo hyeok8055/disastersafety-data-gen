{
 "cells": [
  {
   "cell_type": "markdown",
   "id": "e3e1cd32",
   "metadata": {},
   "source": [
    "# Faker 기반 가상데이터 생성기 안내\n",
    "\n",
    "이 노트북은 JSON/CSV로 가상 데이터를 생성하는 과정을 단계별로 안내합니다. CSV 저장은 UTF-8-sig로 하여 Excel에서 바로 열기 편하도록 합니다."
   ]
  },
  {
   "cell_type": "markdown",
   "id": "2f107387",
   "metadata": {},
   "source": [
    "## 데이터 스키마 개요\n",
    "\n",
    "이 노트북은 이어드림 플랫폼의 데이터 스키마를 기반으로 가상 데이터를 생성합니다. 플랫폼은 재난 상황에서 대피소와 구호품 기부자를 연결하는 AI 기반 매칭 시스템입니다.\n",
    "\n",
    "### 주요 기능\n",
    "- 실시간 대피소 현황 모니터링\n",
    "- AI 기반 구호품 수요 예측\n",
    "- 스마트 매칭 알고리즘을 통한 기부자-대피소 연결\n",
    "- 개인화된 추천 시스템\n",
    "- 배송 및 물류 최적화\n",
    "\n",
    "### AI/ML 모델 요구사항\n",
    "- **다변량 LSTM 모델**: 대피소별 구호품 수요 예측\n",
    "- **트위터 오픈소스 추천 알고리즘**: 사용자 맞춤형 기부 추천\n",
    "- **실시간 분석**: 대피소 현황 및 긴급도 분석\n",
    "\n",
    "### 핵심 데이터 테이블 구조\n",
    "\n",
    "#### users 테이블\n",
    "- 사용자 고유 ID, 이메일, 유형(공무원/일반), 이름, 전화번호, 주소, 선호 카테고리 등\n",
    "\n",
    "#### shelters 테이블\n",
    "- 대피소 ID, 관리자 ID, 이름, 재난 유형, 상태, 주소, 좌표, 수용 인원, 편의시설 등\n",
    "\n",
    "#### relief_items 테이블\n",
    "- 구호품 ID, 코드, 카테고리(식량/생활용품/의류/의약품), 소분류, 이름, 단위 등\n",
    "\n",
    "#### user_donation_wishes 테이블\n",
    "- 기부 의사 ID, 사용자 ID, 구호품 ID, 수량, 상태, 매칭 정보 등\n",
    "\n",
    "#### shelter_relief_requests 테이블\n",
    "- 요청 ID, 대피소 ID, 구호품 ID, 요청 수량, 현재 재고, 긴급도 등\n",
    "\n",
    "#### donation_matches 테이블\n",
    "- 매칭 ID, 기부 의사 ID, 요청 ID, 매칭 수량, 상태, 배송 정보 등\n",
    "\n",
    "#### disaster_incidents 테이블\n",
    "- 재난 사건 ID, 연도, 유형 코드, 지역, 피해 정보, 관련 대피소 등\n",
    "\n",
    "#### consumption_info 테이블\n",
    "- 소비 정보 ID, 대피소 ID, 재난 ID, 구호품 ID, 소비량, 기간, 만족도 등\n",
    "\n",
    "### 데이터 관계도\n",
    "```mermaid\n",
    "graph TD\n",
    "    A[users] --> B[user_donation_wishes]\n",
    "    A --> C[shelters]\n",
    "    C --> D[shelter_relief_requests]\n",
    "    E[relief_items] --> B\n",
    "    E --> D\n",
    "    B --> F[donation_matches]\n",
    "    D --> F\n",
    "    G[disaster_incidents] -.-> C\n",
    "    C --> L[consumption_info]\n",
    "    G --> L\n",
    "    E --> L\n",
    "```\n",
    "\n",
    "이 스키마를 기반으로 Faker(ko_KR)를 사용하여 가상 데이터를 생성합니다."
   ]
  },
  {
   "cell_type": "markdown",
   "id": "855da7a2",
   "metadata": {},
   "source": [
    "## 1) 필요한 라이브러리 불러오기\n",
    "\n",
    "아래 셀에서 파이썬 표준라이브러리와 `pandas`, `faker` 등을 불러옵니다. 필요 시 pip로 설치하는 코드도 포함되어 있습니다."
   ]
  },
  {
   "cell_type": "code",
   "execution_count": 1,
   "id": "aaf67efb",
   "metadata": {},
   "outputs": [
    {
     "name": "stdout",
     "output_type": "stream",
     "text": [
      "라이브러리 로드 완료\n"
     ]
    }
   ],
   "source": [
    "# 셀 1: 필요한 패키지 설치(필요한 경우 주석 해제 후 실행)\n",
    "# !pip install -r ../requirements.txt\n",
    "\n",
    "import json\n",
    "import os\n",
    "from pathlib import Path\n",
    "import subprocess\n",
    "\n",
    "import pandas as pd\n",
    "from faker import Faker\n",
    "\n",
    "print('라이브러리 로드 완료')"
   ]
  },
  {
   "cell_type": "markdown",
   "id": "39c92e61",
   "metadata": {},
   "source": [
    "## 2) 샘플 데이터 생성\n",
    "\n",
    "딕셔너리와 리스트 구조의 간단한 샘플 데이터를 만듭니다. 실제 생성기와 동일한 필드 일부를 사용합니다."
   ]
  },
  {
   "cell_type": "code",
   "execution_count": null,
   "id": "8e0d6992",
   "metadata": {},
   "outputs": [],
   "source": [
    "# 셀 2: 샘플 데이터 생성\n",
    "fake = Faker('ko_KR')\n",
    "\n",
    "users = []\n",
    "for i in range(1, 6):\n",
    "    users.append({\n",
    "        'user_id': f'user_{i:04d}',\n",
    "        'email': fake.safe_email(),\n",
    "        'user_type': 'general_user',\n",
    "        'name': fake.name(),\n",
    "        'phone_number': fake.phone_number(),\n",
    "    })\n",
    "\n",
    "relief_items = [\n",
    "    {'item_id': 'relief_item_001', 'item_name': '컵라면', 'category': '식량'},\n",
    "    {'item_id': 'relief_item_002', 'item_name': '화장지', 'category': '생활용품'},\n",
    "]\n",
    "\n",
    "print('샘플 users:')\n",
    "print(users)\n",
    "print('\\n샘플 relief_items:')\n",
    "print(relief_items)"
   ]
  },
  {
   "cell_type": "markdown",
   "id": "5280be8b",
   "metadata": {},
   "source": [
    "## 3) JSON 생성기 실행 (generate_fake_data.py)\n",
    "\n",
    "`tools/generate_fake_data.py`는 Faker(ko_KR)를 사용하여 데이터 스키마에 맞춘 가상 데이터를 생성하고 JSON 파일로 저장합니다. 주요 기능:\n",
    "\n",
    "- 사용자, 대피소, 구호품, 기부 의사, 요청, 매칭, 재난 사건, 소비 정보 테이블 생성\n",
    "- 한국어 로케일 사용\n",
    "- 대한민국 범위 내 랜덤 좌표 생성\n",
    "- ISO 형식 날짜/시간 사용\n",
    "\n",
    "아래에서 실제 스크립트를 실행합니다."
   ]
  },
  {
   "cell_type": "code",
   "execution_count": null,
   "id": "2b4b807b",
   "metadata": {},
   "outputs": [],
   "source": [
    "# 셀 3: JSON 생성기 실행\n",
    "# 작은 샘플로 실행 (실제로는 명령행에서 --users 등 옵션 조정 가능)\n",
    "import subprocess\n",
    "\n",
    "result = subprocess.run(['python', '../generate_fake_data.py', '--seed', '42', '--users', '10', '--shelters', '5', '--relief_items', '8', '--wishes', '15', '--requests', '12', '--matches', '10', '--incidents', '3', '--consumptions', '8'], capture_output=True, text=True, cwd='.')\n",
    "\n",
    "print('실행 결과:')\n",
    "print(result.stdout)\n",
    "if result.stderr:\n",
    "    print('에러:', result.stderr)"
   ]
  },
  {
   "cell_type": "markdown",
   "id": "e5def49c",
   "metadata": {},
   "source": [
    "## 4) CSV 생성기 실행 (generate_fake_data_csv.py)\n",
    "\n",
    "`tools/generate_fake_data_csv.py`는 `generate_fake_data.py`의 생성 함수를 재사용하여 데이터를 CSV로 저장합니다. 특징:\n",
    "\n",
    "- pandas를 사용하여 DataFrame 변환\n",
    "- UTF-8-sig 인코딩으로 Excel에서 바로 열기 가능\n",
    "- 동일한 데이터 구조 유지\n",
    "\n",
    "아래에서 실제 스크립트를 실행합니다."
   ]
  },
  {
   "cell_type": "code",
   "execution_count": 5,
   "id": "5c0eac84",
   "metadata": {},
   "outputs": [
    {
     "name": "stdout",
     "output_type": "stream",
     "text": [
      "실행 결과:\n",
      "CSV 생성 완료: output_csv 폴더에 CSV 파일들을 생성했습니다.\n",
      "\n"
     ]
    }
   ],
   "source": [
    "# 셀 4: CSV 생성기 실행\n",
    "# 동일한 시드로 실행하여 JSON과 동일한 데이터 생성\n",
    "result = subprocess.run(['python', '../generate_fake_data_csv.py', '--seed', '42', '--users', '10', '--shelters', '5', '--relief_items', '8', '--wishes', '15', '--requests', '12', '--matches', '10', '--incidents', '3', '--consumptions', '8'], capture_output=True, text=True, cwd='.')\n",
    "\n",
    "print('실행 결과:')\n",
    "print(result.stdout)\n",
    "if result.stderr:\n",
    "    print('에러:', result.stderr)"
   ]
  },
  {
   "cell_type": "markdown",
   "id": "84a47e68",
   "metadata": {},
   "source": [
    "## 5) 생성된 파일 확인\n",
    "\n",
    "위에서 실행한 스크립트로 생성된 파일들을 확인합니다."
   ]
  },
  {
   "cell_type": "markdown",
   "id": "3869c8c8",
   "metadata": {},
   "source": [
    "## 6) 생성 파일 읽기 및 검증\n",
    "\n",
    "생성된 JSON과 CSV 파일을 읽어 샘플 데이터를 확인합니다."
   ]
  },
  {
   "cell_type": "code",
   "execution_count": null,
   "id": "7ab4cefe",
   "metadata": {},
   "outputs": [],
   "source": [
    "# 셀 6: 생성된 파일 읽기 및 검증\n",
    "import json\n",
    "\n",
    "# JSON 파일 읽기 예시\n",
    "json_path = Path('../output/users.json')\n",
    "if json_path.exists():\n",
    "    with json_path.open('r', encoding='utf-8') as f:\n",
    "        users = json.load(f)\n",
    "    print('users.json 샘플 (처음 3개):')\n",
    "    for user in users[:3]:\n",
    "        print(user)\n",
    "    print(f'총 레코드 수: {len(users)}')\n",
    "else:\n",
    "    print('users.json이 없습니다.')\n",
    "\n",
    "# CSV 파일 읽기 예시\n",
    "csv_path = Path('../output_csv/users.csv')\n",
    "if csv_path.exists():\n",
    "    df = pd.read_csv(csv_path, encoding='utf-8-sig')\n",
    "    print('\\nusers.csv 샘플:')\n",
    "    print(df.head())\n",
    "    print(f'총 행 수: {len(df)}')\n",
    "else:\n",
    "    print('users.csv가 없습니다.')\n",
    "\n",
    "# 다른 파일들도 확인\n",
    "print('\\n생성된 파일 목록:')\n",
    "for folder in ['../output', '../output_csv']:\n",
    "    if Path(folder).exists():\n",
    "        files = list(Path(folder).glob('*.json')) + list(Path(folder).glob('*.csv'))\n",
    "        for f in files:\n",
    "            print(f'- {f}')"
   ]
  }
 ],
 "metadata": {
  "kernelspec": {
   "display_name": "base",
   "language": "python",
   "name": "python3"
  },
  "language_info": {
   "codemirror_mode": {
    "name": "ipython",
    "version": 3
   },
   "file_extension": ".py",
   "mimetype": "text/x-python",
   "name": "python",
   "nbconvert_exporter": "python",
   "pygments_lexer": "ipython3",
   "version": "3.12.9"
  }
 },
 "nbformat": 4,
 "nbformat_minor": 5
}
